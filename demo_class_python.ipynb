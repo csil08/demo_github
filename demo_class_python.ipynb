{
 "cells": [
  {
   "cell_type": "code",
   "execution_count": 16,
   "id": "b55c9ba3",
   "metadata": {},
   "outputs": [],
   "source": [
    "class Person():\n",
    "    def __init__(self, salary, age):\n",
    "        self.salary = salary\n",
    "        self.age = age\n",
    "        \n",
    "    def get_monthly_salary(self):\n",
    "        return self.salary / 12\n",
    "    \n",
    "    def get_age(self):\n",
    "        return self.age"
   ]
  },
  {
   "cell_type": "code",
   "execution_count": 18,
   "id": "a0515502",
   "metadata": {},
   "outputs": [],
   "source": [
    "person = Person(27000, 25)"
   ]
  },
  {
   "cell_type": "code",
   "execution_count": 23,
   "id": "7de457f7",
   "metadata": {},
   "outputs": [
    {
     "data": {
      "text/plain": [
       "2666.6666666666665"
      ]
     },
     "execution_count": 23,
     "metadata": {},
     "output_type": "execute_result"
    }
   ],
   "source": [
    "person.get_monthly_salary()"
   ]
  },
  {
   "cell_type": "code",
   "execution_count": 21,
   "id": "c65637de",
   "metadata": {},
   "outputs": [],
   "source": [
    "person.salary = 32000"
   ]
  },
  {
   "cell_type": "code",
   "execution_count": 24,
   "id": "b44a9bec",
   "metadata": {},
   "outputs": [],
   "source": [
    "from abc import ABC, abstractmethod\n",
    "\n",
    "class Animal(ABC):\n",
    "    @abstractmethod\n",
    "    def make_sound(self):\n",
    "        pass"
   ]
  },
  {
   "cell_type": "code",
   "execution_count": 27,
   "id": "7cbc2020",
   "metadata": {},
   "outputs": [],
   "source": [
    "import pandas as pd"
   ]
  },
  {
   "cell_type": "code",
   "execution_count": 30,
   "id": "8071aab9",
   "metadata": {},
   "outputs": [],
   "source": [
    "df = pd.DataFrame({1: [\"Victor\", \"Francois\", \"Angel\"]})"
   ]
  },
  {
   "cell_type": "code",
   "execution_count": null,
   "id": "4797cf6a",
   "metadata": {},
   "outputs": [
    {
     "data": {
      "text/plain": [
       "0    V\n",
       "1    F\n",
       "2    A\n",
       "Name: 1, dtype: object"
      ]
     },
     "execution_count": 33,
     "metadata": {},
     "output_type": "execute_result"
    }
   ],
   "source": [
    "df[1].apply(lambda x: x[0])\n",
    "\n",
    "df.get_first_char()"
   ]
  },
  {
   "cell_type": "code",
   "execution_count": 42,
   "id": "921b3b8c",
   "metadata": {},
   "outputs": [],
   "source": [
    "class BetterDataFrame(pd.DataFrame):\n",
    "    def get_first_char(self):\n",
    "        return 1"
   ]
  },
  {
   "cell_type": "code",
   "execution_count": 44,
   "id": "8ef7bb79",
   "metadata": {},
   "outputs": [
    {
     "data": {
      "text/html": [
       "<div>\n",
       "<style scoped>\n",
       "    .dataframe tbody tr th:only-of-type {\n",
       "        vertical-align: middle;\n",
       "    }\n",
       "\n",
       "    .dataframe tbody tr th {\n",
       "        vertical-align: top;\n",
       "    }\n",
       "\n",
       "    .dataframe thead th {\n",
       "        text-align: right;\n",
       "    }\n",
       "</style>\n",
       "<table border=\"1\" class=\"dataframe\">\n",
       "  <thead>\n",
       "    <tr style=\"text-align: right;\">\n",
       "      <th></th>\n",
       "      <th>1</th>\n",
       "    </tr>\n",
       "  </thead>\n",
       "  <tbody>\n",
       "    <tr>\n",
       "      <th>0</th>\n",
       "      <td>Victor</td>\n",
       "    </tr>\n",
       "    <tr>\n",
       "      <th>1</th>\n",
       "      <td>Francois</td>\n",
       "    </tr>\n",
       "    <tr>\n",
       "      <th>2</th>\n",
       "      <td>Angel</td>\n",
       "    </tr>\n",
       "  </tbody>\n",
       "</table>\n",
       "</div>"
      ],
      "text/plain": [
       "          1\n",
       "0    Victor\n",
       "1  Francois\n",
       "2     Angel"
      ]
     },
     "execution_count": 44,
     "metadata": {},
     "output_type": "execute_result"
    }
   ],
   "source": [
    "df = BetterDataFrame({1: [\"Victor\", \"Francois\", \"Angel\"]})\n",
    "df"
   ]
  },
  {
   "cell_type": "code",
   "execution_count": 47,
   "id": "f78694ac",
   "metadata": {},
   "outputs": [
    {
     "name": "stdout",
     "output_type": "stream",
     "text": [
      "Woof!\n",
      "Meow!\n"
     ]
    }
   ],
   "source": [
    "from abc import ABC, abstractmethod\n",
    "\n",
    "class Animal(ABC):\n",
    "    @abstractmethod\n",
    "    def make_sound(self):\n",
    "        pass\n",
    "\n",
    "class Dog(Animal):\n",
    "    def make_sound(self):\n",
    "        print(\"Woof!\")\n",
    "\n",
    "class Cat(Animal):\n",
    "    def make_sound(self):\n",
    "        print(\"Meow!\")\n",
    "\n",
    "dog = Dog()\n",
    "dog.make_sound()  # Output: Woof!\n",
    "\n",
    "cat = Cat()\n",
    "cat.make_sound()  # Output: Meow!\n",
    "\n"
   ]
  },
  {
   "cell_type": "code",
   "execution_count": null,
   "id": "15d2f6e0",
   "metadata": {},
   "outputs": [],
   "source": [
    "class Shape:\n",
    "    def __init__(self, color):\n",
    "        self.color = color\n",
    "\n",
    "    def display_color(self):\n",
    "        print(\"Color:\", self.color)\n",
    "\n",
    "class Circle(Shape):\n",
    "    def __init__(self, color, radius):\n",
    "        super().__init__(color)\n",
    "        self.radius = radius\n",
    "\n",
    "    def display_area(self):\n",
    "        area = 3.14 * self.radius ** 2\n",
    "        print(\"Area:\", area)\n"
   ]
  },
  {
   "cell_type": "code",
   "execution_count": 60,
   "id": "71c2bfcb",
   "metadata": {},
   "outputs": [],
   "source": [
    "class Shape:\n",
    "    def __init__(self, color):\n",
    "        self.color = color\n",
    "\n",
    "    def display_color(self):\n",
    "        print(\"Color:\", self.color)\n",
    "\n",
    "class Circle(Shape):\n",
    "    def __init__(self, color, radius):\n",
    "        super().__init__(color)\n",
    "        self.radius = radius\n",
    "\n",
    "    def display_area(self):\n",
    "        area = 3.14 * self.radius ** 2\n",
    "        print(\"Area:\", area)\n"
   ]
  },
  {
   "cell_type": "code",
   "execution_count": 62,
   "id": "8ac89274",
   "metadata": {},
   "outputs": [],
   "source": [
    "circle = Circle(\"red\", 5)"
   ]
  },
  {
   "cell_type": "code",
   "execution_count": 63,
   "id": "888505f6",
   "metadata": {},
   "outputs": [
    {
     "name": "stdout",
     "output_type": "stream",
     "text": [
      "Color: red\n"
     ]
    }
   ],
   "source": [
    "circle.display_color()"
   ]
  },
  {
   "cell_type": "code",
   "execution_count": 64,
   "id": "bdd37407",
   "metadata": {},
   "outputs": [],
   "source": [
    "\n",
    "class Garage():\n",
    "    # Attribute initialization - we use a special method: __init__()\n",
    "    def __init__(self):\n",
    "        self.employes = 0\n",
    "    \n",
    "    # Declaration/definition of methods\n",
    "    def recrute_employees(self, number_employees):\n",
    "        self.employes += number_employees\n",
    "        \n",
    "    def dismissed_employees(self, number_employees):\n",
    "        self.employes -= number_employees\n",
    "        \n",
    "    def display_information(self):\n",
    "        print(\"Employees: \", self.employes)\n"
   ]
  },
  {
   "cell_type": "code",
   "execution_count": 65,
   "id": "a4651b11",
   "metadata": {},
   "outputs": [],
   "source": [
    "garage_1 = Garage()"
   ]
  },
  {
   "cell_type": "code",
   "execution_count": 66,
   "id": "8357d0ab",
   "metadata": {},
   "outputs": [
    {
     "data": {
      "text/plain": [
       "0"
      ]
     },
     "execution_count": 66,
     "metadata": {},
     "output_type": "execute_result"
    }
   ],
   "source": [
    "garage_1.employes"
   ]
  },
  {
   "cell_type": "code",
   "execution_count": 67,
   "id": "487fb9e1",
   "metadata": {},
   "outputs": [],
   "source": [
    "garage_1.recrute_employees(3)"
   ]
  },
  {
   "cell_type": "code",
   "execution_count": 68,
   "id": "19b53d8e",
   "metadata": {},
   "outputs": [
    {
     "data": {
      "text/plain": [
       "3"
      ]
     },
     "execution_count": 68,
     "metadata": {},
     "output_type": "execute_result"
    }
   ],
   "source": [
    "garage_1.employes"
   ]
  },
  {
   "cell_type": "code",
   "execution_count": 70,
   "id": "265ed88b",
   "metadata": {},
   "outputs": [],
   "source": [
    "df = pd.DataFrame({\"name\": [\"Victor\", \"Samantha\", \"Francois\"], \"age\" : [12, 25, 37]})"
   ]
  },
  {
   "cell_type": "code",
   "execution_count": 71,
   "id": "95a2eb2b",
   "metadata": {},
   "outputs": [
    {
     "data": {
      "text/html": [
       "<div>\n",
       "<style scoped>\n",
       "    .dataframe tbody tr th:only-of-type {\n",
       "        vertical-align: middle;\n",
       "    }\n",
       "\n",
       "    .dataframe tbody tr th {\n",
       "        vertical-align: top;\n",
       "    }\n",
       "\n",
       "    .dataframe thead th {\n",
       "        text-align: right;\n",
       "    }\n",
       "</style>\n",
       "<table border=\"1\" class=\"dataframe\">\n",
       "  <thead>\n",
       "    <tr style=\"text-align: right;\">\n",
       "      <th></th>\n",
       "      <th>name</th>\n",
       "      <th>age</th>\n",
       "    </tr>\n",
       "  </thead>\n",
       "  <tbody>\n",
       "    <tr>\n",
       "      <th>0</th>\n",
       "      <td>Victor</td>\n",
       "      <td>12</td>\n",
       "    </tr>\n",
       "    <tr>\n",
       "      <th>1</th>\n",
       "      <td>Samantha</td>\n",
       "      <td>25</td>\n",
       "    </tr>\n",
       "    <tr>\n",
       "      <th>2</th>\n",
       "      <td>Francois</td>\n",
       "      <td>37</td>\n",
       "    </tr>\n",
       "  </tbody>\n",
       "</table>\n",
       "</div>"
      ],
      "text/plain": [
       "       name  age\n",
       "0    Victor   12\n",
       "1  Samantha   25\n",
       "2  Francois   37"
      ]
     },
     "execution_count": 71,
     "metadata": {},
     "output_type": "execute_result"
    }
   ],
   "source": [
    "df"
   ]
  },
  {
   "cell_type": "code",
   "execution_count": 72,
   "id": "2c66560d",
   "metadata": {},
   "outputs": [],
   "source": [
    "df.drop(\"age\", axis=1, inplace=True)"
   ]
  },
  {
   "cell_type": "code",
   "execution_count": 73,
   "id": "a0b71873",
   "metadata": {},
   "outputs": [
    {
     "data": {
      "text/html": [
       "<div>\n",
       "<style scoped>\n",
       "    .dataframe tbody tr th:only-of-type {\n",
       "        vertical-align: middle;\n",
       "    }\n",
       "\n",
       "    .dataframe tbody tr th {\n",
       "        vertical-align: top;\n",
       "    }\n",
       "\n",
       "    .dataframe thead th {\n",
       "        text-align: right;\n",
       "    }\n",
       "</style>\n",
       "<table border=\"1\" class=\"dataframe\">\n",
       "  <thead>\n",
       "    <tr style=\"text-align: right;\">\n",
       "      <th></th>\n",
       "      <th>name</th>\n",
       "    </tr>\n",
       "  </thead>\n",
       "  <tbody>\n",
       "    <tr>\n",
       "      <th>0</th>\n",
       "      <td>Victor</td>\n",
       "    </tr>\n",
       "    <tr>\n",
       "      <th>1</th>\n",
       "      <td>Samantha</td>\n",
       "    </tr>\n",
       "    <tr>\n",
       "      <th>2</th>\n",
       "      <td>Francois</td>\n",
       "    </tr>\n",
       "  </tbody>\n",
       "</table>\n",
       "</div>"
      ],
      "text/plain": [
       "       name\n",
       "0    Victor\n",
       "1  Samantha\n",
       "2  Francois"
      ]
     },
     "execution_count": 73,
     "metadata": {},
     "output_type": "execute_result"
    }
   ],
   "source": [
    "df"
   ]
  },
  {
   "cell_type": "code",
   "execution_count": 75,
   "id": "7eae69bc",
   "metadata": {},
   "outputs": [],
   "source": [
    "garage_1.dismissed_employees(2)"
   ]
  },
  {
   "cell_type": "code",
   "execution_count": 77,
   "id": "3a6d23b1",
   "metadata": {},
   "outputs": [
    {
     "name": "stdout",
     "output_type": "stream",
     "text": [
      "Employees:  1\n"
     ]
    }
   ],
   "source": [
    "garage_1.display_information()"
   ]
  },
  {
   "cell_type": "code",
   "execution_count": 89,
   "id": "efbe5fea",
   "metadata": {},
   "outputs": [],
   "source": [
    "# We re-declare the Garage class by changing the redundant_employees method\n",
    "\n",
    "class Garage():\n",
    "    # Attribute initialization - a special method is used: __init__()\n",
    "    # Here, all instances of the Garage class will be initialized to zero\n",
    "    def __init__(self):\n",
    "        self.employees = 0\n",
    "    \n",
    "    # Declaration/definition of methods\n",
    "    def recrute_employees(self, number_employees):\n",
    "        self.employees += number_employees\n",
    "    \n",
    "    def dismissed_employees(self, number_employees):\n",
    "        if number_employees > self.employees:\n",
    "            raise ValueError(\"There are currently {} employees in the garage. You can't fire {} of them. You are firing more people than available\"\n",
    "                            .format(self.employees, number_employees))\n",
    "        else:\n",
    "            self.employees -= number_employees\n",
    "        \n",
    "    def display_information(self):\n",
    "        print(\"Employees : \", self.employees)\n",
    "        \n"
   ]
  },
  {
   "cell_type": "code",
   "execution_count": 96,
   "id": "f8c2bf05",
   "metadata": {},
   "outputs": [
    {
     "data": {
      "text/plain": [
       "\"There are currently 1 employees in the garage. You can't fire 2 of them. You are firing more people than 1 available\""
      ]
     },
     "execution_count": 96,
     "metadata": {},
     "output_type": "execute_result"
    }
   ],
   "source": [
    "n_1 = 1\n",
    "\"There are currently {} employees in the garage. You can't fire {} of them. You are firing more people than {} available\".format(n_1, 2, n_1)"
   ]
  },
  {
   "cell_type": "code",
   "execution_count": 97,
   "id": "34147763",
   "metadata": {},
   "outputs": [
    {
     "data": {
      "text/plain": [
       "\"There are currently 1 employees in the garage. You can't fire 2 of them. You are firing more people than 1 available\""
      ]
     },
     "execution_count": 97,
     "metadata": {},
     "output_type": "execute_result"
    }
   ],
   "source": [
    "f\"There are currently {n_1} employees in the garage. You can't fire {2} of them. You are firing more people than {n_1} available\""
   ]
  },
  {
   "cell_type": "code",
   "execution_count": 90,
   "id": "dae2b30c",
   "metadata": {},
   "outputs": [],
   "source": [
    "garage_1 = Garage()"
   ]
  },
  {
   "cell_type": "code",
   "execution_count": 91,
   "id": "4e374199",
   "metadata": {},
   "outputs": [],
   "source": [
    "garage_1.recrute_employees(4)"
   ]
  },
  {
   "cell_type": "code",
   "execution_count": 92,
   "id": "be8ff540",
   "metadata": {},
   "outputs": [
    {
     "name": "stdout",
     "output_type": "stream",
     "text": [
      "Employees :  4\n"
     ]
    }
   ],
   "source": [
    "garage_1.display_information()"
   ]
  },
  {
   "cell_type": "code",
   "execution_count": 93,
   "id": "9b543e2e",
   "metadata": {},
   "outputs": [
    {
     "ename": "ValueError",
     "evalue": "There are currently 4 employees in the garage. You can't fire 5 of them. You are firing more people than available",
     "output_type": "error",
     "traceback": [
      "\u001b[0;31m---------------------------------------------------------------------------\u001b[0m",
      "\u001b[0;31mValueError\u001b[0m                                Traceback (most recent call last)",
      "Cell \u001b[0;32mIn[93], line 1\u001b[0m\n\u001b[0;32m----> 1\u001b[0m \u001b[43mgarage_1\u001b[49m\u001b[38;5;241;43m.\u001b[39;49m\u001b[43mdismissed_employees\u001b[49m\u001b[43m(\u001b[49m\u001b[38;5;241;43m5\u001b[39;49m\u001b[43m)\u001b[49m\n",
      "Cell \u001b[0;32mIn[89], line 15\u001b[0m, in \u001b[0;36mGarage.dismissed_employees\u001b[0;34m(self, number_employees)\u001b[0m\n\u001b[1;32m     13\u001b[0m \u001b[38;5;28;01mdef\u001b[39;00m \u001b[38;5;21mdismissed_employees\u001b[39m(\u001b[38;5;28mself\u001b[39m, number_employees):\n\u001b[1;32m     14\u001b[0m     \u001b[38;5;28;01mif\u001b[39;00m number_employees \u001b[38;5;241m>\u001b[39m \u001b[38;5;28mself\u001b[39m\u001b[38;5;241m.\u001b[39memployees:\n\u001b[0;32m---> 15\u001b[0m         \u001b[38;5;28;01mraise\u001b[39;00m \u001b[38;5;167;01mValueError\u001b[39;00m(\u001b[38;5;124m\"\u001b[39m\u001b[38;5;124mThere are currently \u001b[39m\u001b[38;5;132;01m{}\u001b[39;00m\u001b[38;5;124m employees in the garage. You can\u001b[39m\u001b[38;5;124m'\u001b[39m\u001b[38;5;124mt fire \u001b[39m\u001b[38;5;132;01m{}\u001b[39;00m\u001b[38;5;124m of them. You are firing more people than available\u001b[39m\u001b[38;5;124m\"\u001b[39m\n\u001b[1;32m     16\u001b[0m                         \u001b[38;5;241m.\u001b[39mformat(\u001b[38;5;28mself\u001b[39m\u001b[38;5;241m.\u001b[39memployees, number_employees))\n\u001b[1;32m     17\u001b[0m     \u001b[38;5;28;01melse\u001b[39;00m:\n\u001b[1;32m     18\u001b[0m         \u001b[38;5;28mself\u001b[39m\u001b[38;5;241m.\u001b[39memployees \u001b[38;5;241m-\u001b[39m\u001b[38;5;241m=\u001b[39m number_employees\n",
      "\u001b[0;31mValueError\u001b[0m: There are currently 4 employees in the garage. You can't fire 5 of them. You are firing more people than available"
     ]
    }
   ],
   "source": [
    "garage_1.dismissed_employees(5)"
   ]
  },
  {
   "cell_type": "code",
   "execution_count": null,
   "id": "4297bd85",
   "metadata": {},
   "outputs": [],
   "source": []
  }
 ],
 "metadata": {
  "kernelspec": {
   "display_name": "Python 3",
   "language": "python",
   "name": "python3"
  },
  "language_info": {
   "codemirror_mode": {
    "name": "ipython",
    "version": 3
   },
   "file_extension": ".py",
   "mimetype": "text/x-python",
   "name": "python",
   "nbconvert_exporter": "python",
   "pygments_lexer": "ipython3",
   "version": "3.10.12"
  }
 },
 "nbformat": 4,
 "nbformat_minor": 5
}
